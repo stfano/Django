{
 "cells": [
  {
   "cell_type": "code",
   "execution_count": 1,
   "id": "fa6d6540",
   "metadata": {},
   "outputs": [],
   "source": [
    "from pybo.models import Question, Answer\n",
    "from django.utils import timezone"
   ]
  },
  {
   "cell_type": "code",
   "execution_count": 2,
   "id": "4215f5cf",
   "metadata": {
    "scrolled": true
   },
   "outputs": [],
   "source": [
    "q = Question.objects.get(id = 74)"
   ]
  },
  {
   "cell_type": "code",
   "execution_count": 3,
   "id": "5a7352a9",
   "metadata": {},
   "outputs": [],
   "source": [
    "a = Answer(question=q, content='짬뽕집 추천', create_date=timezone.now()) \n",
    "a.save()\n"
   ]
  },
  {
   "cell_type": "code",
   "execution_count": 4,
   "id": "db25ba05",
   "metadata": {},
   "outputs": [
    {
     "data": {
      "text/plain": [
       "<QuerySet [<Answer: 칙힌>, <Answer: 리플입니다>, <Answer: 중국성 추천>, <Answer: 레몬그라스타이>, <Answer: 명란크림우동+가츠산도 배달>, <Answer: 파스타>, <Answer: 초밥 머거요>, <Answer: 저메추>, <Answer: 새해맞이 떡만두라면>, <Answer: 중국성 추천>, <Answer: 한솥 추천>, <Answer: 배고파>, <Answer: 칭하이 추천>, <Answer: 시카고피자+치밥>, <Answer: 칭하이 추천>, <Answer: 치즈불닭볶음면+참치김밥>, <Answer: 소맥이 점심으로 적절하조>, <Answer: 칼국수집 낙지덮밥 추천합니다!>, <Answer: 우리집 어때?>, <Answer: 수아 추천 소맥임요>, '...(remaining elements truncated)...']>"
      ]
     },
     "execution_count": 4,
     "metadata": {},
     "output_type": "execute_result"
    }
   ],
   "source": [
    "q.answer_set.all()"
   ]
  },
  {
   "cell_type": "code",
   "execution_count": 1,
   "id": "5cbd3d21",
   "metadata": {},
   "outputs": [],
   "source": [
    "import requests"
   ]
  },
  {
   "cell_type": "code",
   "execution_count": null,
   "id": "49faa68a",
   "metadata": {},
   "outputs": [],
   "source": []
  }
 ],
 "metadata": {
  "kernelspec": {
   "display_name": "venv",
   "language": "python",
   "name": "python3"
  },
  "language_info": {
   "codemirror_mode": {
    "name": "ipython",
    "version": 3
   },
   "file_extension": ".py",
   "mimetype": "text/x-python",
   "name": "python",
   "nbconvert_exporter": "python",
   "pygments_lexer": "ipython3",
   "version": "3.9.13"
  }
 },
 "nbformat": 4,
 "nbformat_minor": 5
}
